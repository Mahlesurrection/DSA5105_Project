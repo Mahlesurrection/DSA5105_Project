{
 "cells": [
  {
   "attachments": {},
   "cell_type": "markdown",
   "metadata": {},
   "source": [
    "# Introduction\n",
    "This is the NUS DSA5105 course project. I finished several tasks on CIFAR-10 dataset.\n",
    "\n",
    "The `.ipynb` file includes 3 parts:\n",
    "- **CIFAR-10 Dataset Overview**\n",
    "    - Introduction of the dataset\n",
    "    - Visualization of the dataset\n",
    "    - K-fold dataloader for the dataset\n",
    "- **Supervised Learning**:\n",
    "    - Logistic Regression\n",
    "    - Random Forest\n",
    "    - Convolutional Nearual Network\n",
    "- **Unsupervised Learning**:\n",
    "    - Autoencoder\n",
    "    - KMeans Clustering\n",
    "    - Autoencoder + KMeans\n",
    "\n",
    "And I used k-fold cross validation in `Logistic Regression` and `Convolutional Nearual Network` parts to evaluate the model performance.\n",
    "\n",
    "The dataset is in \"`./data`\" and all of the trained model are in \"`./model`\", and I have annotated all the code for the training section, if you have downloaded the `./model` folder, you can run each code block within 30 seconds.\n",
    "\n",
    "You can also get the project file on [GitHub](https://github.com/Mahlesurrection/DSA5105_Project).\n"
   ]
  },
  {
   "attachments": {},
   "cell_type": "markdown",
   "metadata": {},
   "source": [
    "# CIFAR-10 Dataset Overview\n",
    "\n",
    "The CIFAR-10 dataset is a widely used dataset for machine learning and computer vision tasks. It was collected by Alex Krizhevsky, Vinod Nair, and Geoffrey Hinton.\n",
    "\n",
    "## Key Details\n",
    "\n",
    "- **Number of Images**: 60,000\n",
    "- **Dimensions**: 32x32 (width x height)\n",
    "- **Channels**: 3 (RGB)\n",
    "- **Classes**: 10\n",
    "- **Images per Class**: 6,000\n",
    "- **Training Set Size**: 50,000 images\n",
    "- **Test Set Size**: 10,000 images\n",
    "- **Class Labels**:\n",
    "  - airplane\n",
    "  - automobile\n",
    "  - bird\n",
    "  - cat\n",
    "  - deer\n",
    "  - dog\n",
    "  - frog\n",
    "  - horse\n",
    "  - ship\n",
    "  - truck\n",
    "\n",
    "## Dataset Purpose\n",
    "\n",
    "The CIFAR-10 dataset is primarily used for training and testing machine learning models, particularly in the field of image recognition.\n",
    "\n",
    "## Image Characteristics\n",
    "\n",
    "- **Resolution**: Low (32x32), leading to a challenging pattern recognition task.\n",
    "- **Variety**: Images are taken from various angles and lighting conditions.\n",
    "- **Labeling**: Each image is labeled with one of the 10 class labels.\n",
    "\n",
    "## Usage\n",
    "\n",
    "CIFAR-10 is widely used for benchmarking image classification algorithms due to its manageable size and its complexity that is sufficient to evaluate the performance of various algorithms.\n",
    "\n",
    "## Access\n",
    "\n",
    "The dataset can be accessed and downloaded from the CIFAR dataset website or through various data science and machine learning libraries, such as TensorFlow and PyTorch.\n"
   ]
  },
  {
   "attachments": {},
   "cell_type": "markdown",
   "metadata": {},
   "source": [
    "### Library"
   ]
  },
  {
   "cell_type": "code",
   "execution_count": 1,
   "metadata": {},
   "outputs": [],
   "source": [
    "import numpy as np\n",
    "import matplotlib.pyplot as plt\n",
    "import pandas as pd\n",
    "import os\n",
    "import seaborn as sns\n",
    "\n",
    "import torchvision\n",
    "import torchvision.transforms as transforms\n",
    "import torch\n",
    "import torch.nn as nn\n",
    "import torch.nn.functional as F\n",
    "import torch.optim as optim\n",
    "from torch.utils.data.sampler import SubsetRandomSampler\n",
    "from torch.utils.data import DataLoader\n",
    "\n",
    "from tqdm import tqdm"
   ]
  },
  {
   "attachments": {},
   "cell_type": "markdown",
   "metadata": {},
   "source": [
    "### Dataloader"
   ]
  },
  {
   "cell_type": "code",
   "execution_count": 2,
   "metadata": {},
   "outputs": [],
   "source": [
    "def GetLoader(batch_size = 128, transform=[]):\n",
    "    # define the transform so that data is in [0, 1]\n",
    "    transform = transforms.Compose(\n",
    "        [transforms.ToTensor()\n",
    "        ])\n",
    "    # load training set\n",
    "    trainset = torchvision.datasets.CIFAR10(root='./data', train=True,\n",
    "                                            download=True, transform=transform)\n",
    "    trainloader = torch.utils.data.DataLoader(trainset, batch_size=batch_size,\n",
    "                                            shuffle=True, num_workers=2)\n",
    "\n",
    "    # load test set\n",
    "    testset = torchvision.datasets.CIFAR10(root='./data', train=False,\n",
    "                                        download=True, transform=transform)\n",
    "    testloader = torch.utils.data.DataLoader(testset, batch_size=5000,\n",
    "                                            shuffle=False, num_workers=2)\n",
    "\n",
    "    # CIFAR-10 classes\n",
    "    classes = ('plane', 'car', 'bird', 'cat',\n",
    "            'deer', 'dog', 'frog', 'horse', 'ship', 'truck')\n",
    "    return trainloader, testloader, classes"
   ]
  },
  {
   "cell_type": "code",
   "execution_count": 3,
   "metadata": {},
   "outputs": [],
   "source": [
    "# generate dataloader for K-fold cross validation\n",
    "def get_k_fold_data_loaders(batch_size, k, current_fold, transform):\n",
    "    # load the dataset\n",
    "    dataset = torchvision.datasets.CIFAR10(root='./data', train=True, download=False, transform=transform)\n",
    "    \n",
    "    # Length of dataset\n",
    "    dataset_size = len(dataset)\n",
    "    \n",
    "    # Shuffle dataset indices\n",
    "    indices = list(range(dataset_size))\n",
    "    np.random.shuffle(indices)\n",
    "    \n",
    "    # Calculate the size of a single fold\n",
    "    fold_size = dataset_size // k\n",
    "    \n",
    "    # Split indices into k folds\n",
    "    folds = [indices[i * fold_size:(i + 1) * fold_size] for i in range(k)]\n",
    "    \n",
    "    # Concatenate the indices of the other folds to use as training data\n",
    "    train_indices = [idx for i in range(k) if i != current_fold for idx in folds[i]]\n",
    "    \n",
    "    # The current fold is used as the validation set\n",
    "    valid_indices = folds[current_fold]\n",
    "    \n",
    "    # Create samplers for training and validation folds\n",
    "    train_sampler = SubsetRandomSampler(train_indices)\n",
    "    valid_sampler = SubsetRandomSampler(valid_indices)\n",
    "    \n",
    "    # Create data loaders for training and validation\n",
    "    trainloader = DataLoader(dataset, batch_size=batch_size, sampler=train_sampler, num_workers=2)\n",
    "    validloader = DataLoader(dataset, batch_size=batch_size, sampler=valid_sampler, num_workers=2)\n",
    "    \n",
    "    return trainloader, validloader"
   ]
  },
  {
   "attachments": {},
   "cell_type": "markdown",
   "metadata": {},
   "source": [
    "## Visulization"
   ]
  },
  {
   "cell_type": "code",
   "execution_count": 4,
   "metadata": {},
   "outputs": [
    {
     "name": "stdout",
     "output_type": "stream",
     "text": [
      "Files already downloaded and verified\n",
      "Files already downloaded and verified\n"
     ]
    },
    {
     "data": {
      "image/png": "[encoded data removed]",
      "text/plain": [
       "<Figure size 1500x200 with 8 Axes>"
      ]
     },
     "metadata": {},
     "output_type": "display_data"
    }
   ],
   "source": [
    "# Function to show images with labels beneath each image\n",
    "def imshow_with_labels(img, labels, classes):\n",
    "    # Get the number of images\n",
    "    num_images = len(labels)\n",
    "    # Set the titles with class labels\n",
    "    titles = [classes[labels[j]] for j in range(num_images)]\n",
    "    # Create a grid with titles beneath each image\n",
    "    fig, axes = plt.subplots(1, num_images, figsize=(15, 2))\n",
    "    for ax, title, image in zip(axes, titles, images):\n",
    "        ax.imshow(np.transpose(image.numpy(), (1, 2, 0)))\n",
    "        ax.set_title(title)\n",
    "        ax.axis('off')  # Hide the axes\n",
    "    plt.show()\n",
    "\n",
    "# Get some random training images\n",
    "trainloader, _, classes = GetLoader(8)\n",
    "dataiter = iter(trainloader)\n",
    "images, labels = next(dataiter)\n",
    "\n",
    "# Show images with labels beneath\n",
    "imshow_with_labels(torchvision.utils.make_grid(images, nrow=4), labels, classes)"
   ]
  },
  {
   "attachments": {},
   "cell_type": "markdown",
   "metadata": {},
   "source": [
    "# Supervised Learning\n",
    "\n",
    "## Image Classification on CIFAR-10 Dataset\n",
    "\n",
    "Image classification is a core task in the field of computer vision. The CIFAR-10 dataset presents a benchmark challenge for this task due to its diverse set of low-resolution images.\n",
    "\n",
    "### Task Description\n",
    "\n",
    "- **Objective**: The primary objective in the CIFAR-10 image classification task is to correctly identify which of the 10 classes a given image belongs to.\n",
    "- **Input**: A 32x32 pixel image with 3 color channels (red, green, blue).\n",
    "- **Output**: A single label from one of the 10 classes.\n",
    "\n",
    "### Classes\n",
    "\n",
    "The CIFAR-10 dataset contains images from 10 different classes, which represent a broad range of objects:\n",
    "\n",
    "1. Airplane\n",
    "2. Automobile\n",
    "3. Bird\n",
    "4. Cat\n",
    "5. Deer\n",
    "6. Dog\n",
    "7. Frog\n",
    "8. Horse\n",
    "9. Ship\n",
    "10. Truck\n",
    "\n",
    "### Supervised Learning Approach\n",
    "\n",
    "- **Training**: Models are trained using 50,000 labeled images. Each image comes with a corresponding class label.\n",
    "- **Validation**: Typically, a portion of the training set is held out to form a validation set for hyperparameter tuning and model selection.\n",
    "- **Testing**: After training, models are evaluated on a separate set of 10,000 labeled images to gauge their performance.\n",
    "\n",
    "### Performance Metrics\n",
    "\n",
    "- **Accuracy**: The most common metric used for this task is classification accuracy, the percentage of images correctly classified.\n",
    "\n",
    "### Challenges\n",
    "\n",
    "- **Resolution**: The low resolution of images (32x32 pixels) makes it difficult for models to extract fine details.\n",
    "- **Inter-class Variation**: Some classes have higher intra-class variation which can make accurate classification more challenging.\n",
    "\n",
    "### Model Architectures\n",
    "\n",
    "A wide variety of model architectures have been applied to this task, ranging from classical machine learning models to advanced deep learning networks such as CNNs (Convolutional Neural Networks).\n",
    "\n",
    "### Tools and Libraries\n",
    "\n",
    "- **TensorFlow**: Offers high-level APIs for building and training models on CIFAR-10.\n",
    "- **PyTorch**: Another popular library that provides tools for loading CIFAR-10 and building neural networks.\n",
    "\n",
    "By using CIFAR-10 for image classification, researchers and practitioners can benchmark their algorithms against a standard and challenging dataset to assess their models' ability to generalize from visual data.\n"
   ]
  },
  {
   "attachments": {},
   "cell_type": "markdown",
   "metadata": {},
   "source": [
    "## CIFAR-10 Classification Using Logistic Regression\n",
    "\n",
    "Logistic regression, traditionally a linear model for binary classification, can be adapted for the multi-class classification task of the CIFAR-10 dataset.\n",
    "\n",
    "### Logistic Regression Overview\n",
    "\n",
    "Logistic regression models the probabilities of a default class (typically \"1\") and its complement (typically \"0\"). For multi-class problems like CIFAR-10, the technique is extended into what is known as \"one-vs-rest\" logistic regression.\n",
    "\n",
    "#### CIFAR-10 Dataset\n",
    "\n",
    "- **Size**: 32x32 pixel images\n",
    "- **Channels**: 3 (RGB)\n",
    "- **Classes**: 10 distinct categories\n",
    "\n",
    "### Implementation Steps\n",
    "\n",
    "1. **Preprocessing**:\n",
    "   - Flatten the images from a 3D tensor of 32x32x3 to a 1D tensor of 3072 pixels.\n",
    "   - Normalize the pixel values for better convergence during training.\n",
    "\n",
    "2. **Model Architecture**:\n",
    "   - Input Layer: 3072 input features corresponding to the pixel values of the images.\n",
    "   - Output Layer: 10 units, each representing one of the CIFAR-10 classes.\n",
    "\n",
    "3. **Training**:\n",
    "   - Use softmax as the activation function in the output layer to handle multiple classes.\n",
    "   - Apply cross-entropy as the loss function.\n",
    "   - Utilize gradient descent or more advanced optimizers like `SGD` or `Adam` to minimize the loss.\n",
    "\n",
    "4. **Evaluation**:\n",
    "   - Determine the accuracy of the model on the test dataset.\n",
    "   - Analyze the results using a confusion matrix.\n",
    "\n",
    "### Challenges with Logistic Regression for CIFAR-10\n",
    "\n",
    "- **Computational Complexity**: Due to the high dimensionality of the input features, the model can be computationally intensive.\n",
    "- **Linear Boundaries**: Logistic regression assumes linear boundaries, which may not be sufficient for the complex patterns in CIFAR-10 images.\n",
    "\n",
    "### Extensions to Improve Performance\n",
    "\n",
    "- **Feature Engineering**: Use dimensionality reduction techniques or feature extraction methods to reduce complexity and potentially improve model performance.\n",
    "- **Regularization**: Apply L1 or L2 regularization to prevent overfitting."
   ]
  },
  {
   "cell_type": "code",
   "execution_count": 5,
   "metadata": {},
   "outputs": [],
   "source": [
    "# Logistic regression model\n",
    "class LogisticRegressionModel(nn.Module):\n",
    "    def __init__(self):\n",
    "        super(LogisticRegressionModel, self).__init__()\n",
    "        self.linear = nn.Linear(3072, 10)  # CIFAR-10 image:3x32x32=3072\n",
    "        self.sm = nn.Sigmoid()  # sigmoid function\n",
    "\n",
    "    def forward(self, x):\n",
    "        x = x.reshape(x.size(0), -1)  # flatten the image\n",
    "        x = self.linear(x)\n",
    "        x = self.sm(x)\n",
    "        return x"
   ]
  },
  {
   "cell_type": "code",
   "execution_count": 6,
   "metadata": {},
   "outputs": [],
   "source": [
    "def train_logistic(model, Loss, optimizer, epochs, train_loader, order=0):\n",
    "    for epoch in tqdm(range(epochs)): \n",
    "        for batch_idx, (data, target) in enumerate(train_loader):\n",
    "            optimizer.zero_grad()  # clear gradients\n",
    "            output = model(data)  # forward propagation\n",
    "            loss = Loss(output, target)  # loss\n",
    "            loss.backward()  # back propagation\n",
    "            optimizer.step()  # update parameters\n",
    "            \n",
    "            # if batch_idx % 50 == 0:\n",
    "            #     print(f\"Train Epoch: {epoch + 1} [{batch_idx * len(data)}/{len(train_loader.dataset)} ({100. * batch_idx / len(train_loader):.0f}%)]\\tLoss: {loss.item():.6f}\")\n",
    "    #save model\n",
    "    if order == 0:\n",
    "        torch.save(model.state_dict(), './model/logistic_model_state_dict.pth')\n",
    "    else:\n",
    "        torch.save(model.state_dict(), f'./model/logistic_model_state_dict_fold_{order}.pth')\n",
    "    return model\n",
    "\n",
    "# test the model\n",
    "def evalModel(model, Loss, testloader, order=0):\n",
    "    model.eval()  # set the model to evaluation mode\n",
    "    test_loss = 0\n",
    "    correct = 0\n",
    "    num = 0\n",
    "    with torch.no_grad():  # no gradient calculation\n",
    "        for data, target in testloader:\n",
    "            num += target.shape[0]\n",
    "            output = model(data)\n",
    "            test_loss += Loss(output, target).item()\n",
    "            pred = output.data.max(1, keepdim=True)[1]\n",
    "            correct += pred.eq(target.data.view_as(pred)).sum()\n",
    "\n",
    "    test_loss /= num\n",
    "    if order == 0:\n",
    "        print(f'\\nTest set: Average loss: {test_loss:.4f}, Accuracy: {correct}/{num} ({100. * correct / num:.0f}%)\\n')\n",
    "    else:\n",
    "        print(f'\\nFold {order}: Average loss: {test_loss:.4f}, Accuracy: {correct}/{num} ({100. * correct / num:.0f}%)\\n')"
   ]
  },
  {
   "attachments": {},
   "cell_type": "markdown",
   "metadata": {},
   "source": [
    "### Training Logistic Regression with K-Fold Cross-Validation\n",
    "\n",
    "K-fold cross-validation is a statistical method used to estimate the skill of machine learning models. It is particularly useful when performing hyperparameter tuning and model selection. When used in conjunction with logistic regression, it can help ensure that the model does not overfit to a particular subset of the data.\n",
    "\n",
    "#### Overview of K-Fold Cross-Validation\n",
    "\n",
    "- **Partitioning**: The data is randomly partitioned into `k` equal-sized subsamples.\n",
    "- **Validation**: Out of the `k` subsamples, a single subsample is retained as the validation data for testing the model, and the remaining `k-1` subsamples are used as training data.\n",
    "- **Iteration**: The cross-validation process is then repeated `k` times (the folds), with each of the `k` subsamples used exactly once as the validation data.\n",
    "- **Aggregation**: The `k` results can then be averaged to produce a single estimation.\n",
    "\n",
    "#### Steps for K-Fold Cross-Validation with Logistic Regression\n",
    "\n",
    "1. **Data Preparation**:\n",
    "   - Preprocess the data as required for logistic regression, such as scaling or encoding categorical variables.\n",
    "\n",
    "2. **K-Fold Setup**:\n",
    "   - Decide on the number of folds (`k`), here we choose $k=5$. Common choices are 5 or 10 for a balance between variance and bias.\n",
    "\n",
    "3. **Model Training and Evaluation**:\n",
    "   - For each fold, train the logistic regression model on the `k-1` training folds and evaluate it on the validation fold.\n",
    "   - Collect the model's performance metrics for each fold, typically accuracy or area under the ROC curve.\n",
    "\n",
    "4. **Result Aggregation**:\n",
    "   - Aggregate the performance across all `k` folds to get an overall performance metric.\n",
    "   - This helps in assessing the model's generalization performance.\n",
    "\n",
    "5. **Hyperparameter Tuning**:\n",
    "   - K-fold cross-validation can be nested with hyperparameter tuning algorithms like grid search or random search to find the optimal settings for the model.\n"
   ]
  },
  {
   "attachments": {},
   "cell_type": "markdown",
   "metadata": {},
   "source": [
    "#### K-fold cross validation"
   ]
  },
  {
   "cell_type": "code",
   "execution_count": 7,
   "metadata": {},
   "outputs": [
    {
     "name": "stdout",
     "output_type": "stream",
     "text": [
      "Fold 1:\n",
      "\n",
      "Fold 1: Average loss: 1.9911, Accuracy: 3742/10000 (37%)\n",
      "\n",
      "Fold 2:\n",
      "\n",
      "Fold 2: Average loss: 1.9957, Accuracy: 3727/10000 (37%)\n",
      "\n",
      "Fold 3:\n",
      "\n",
      "Fold 3: Average loss: 1.9917, Accuracy: 3553/10000 (36%)\n",
      "\n",
      "Fold 4:\n",
      "\n",
      "Fold 4: Average loss: 1.9934, Accuracy: 3726/10000 (37%)\n",
      "\n",
      "Fold 5:\n",
      "\n",
      "Fold 5: Average loss: 1.9932, Accuracy: 3733/10000 (37%)\n",
      "\n"
     ]
    }
   ],
   "source": [
    "batch_size = 128\n",
    "learning_rate = 0.01\n",
    "epochs = 10\n",
    "k = 5  # Number of folds\n",
    "# define the transform so that data is in [0, 1]\n",
    "transform = transforms.Compose([transforms.ToTensor()])\n",
    "for fold in range(k):\n",
    "    print(f'Fold {fold + 1}:')\n",
    "    trainloader, validloader = get_k_fold_data_loaders(batch_size=128, k=k, current_fold=fold, transform=transform)\n",
    "    # train the model on the trainloader and validate on the validloader\n",
    "    # define model\n",
    "    model = LogisticRegressionModel()\n",
    "\n",
    "    # loss function and optimizer\n",
    "    Loss = nn.CrossEntropyLoss(reduction='sum')\n",
    "    optimizer = torch.optim.SGD(model.parameters(), lr=learning_rate)\n",
    "    # model = train_logistic(model, Loss, optimizer, epochs, trainloader, fold + 1)\n",
    "\n",
    "    model = LogisticRegressionModel()\n",
    "    model.load_state_dict(torch.load(f'./model/logistic_model_state_dict_fold_{fold + 1}.pth'))\n",
    "    evalModel(model, Loss, validloader, fold + 1)"
   ]
  },
  {
   "attachments": {},
   "cell_type": "markdown",
   "metadata": {},
   "source": [
    "Training using the whole training set.\n",
    "The accuracy turns out to be 37%."
   ]
  },
  {
   "cell_type": "code",
   "execution_count": 8,
   "metadata": {},
   "outputs": [
    {
     "name": "stdout",
     "output_type": "stream",
     "text": [
      "Files already downloaded and verified\n",
      "Files already downloaded and verified\n",
      "\n",
      "Test set: Average loss: 1.9968, Accuracy: 3710/10000 (37%)\n",
      "\n"
     ]
    }
   ],
   "source": [
    "# Hyperparameters\n",
    "batch_size = 128\n",
    "learning_rate = 0.01\n",
    "epochs = 20\n",
    "train_loader, test_loader, classes = GetLoader(batch_size)\n",
    "\n",
    "# define model\n",
    "model = LogisticRegressionModel()\n",
    "\n",
    "# loss function and optimizer\n",
    "Loss = nn.CrossEntropyLoss(reduction='sum')\n",
    "optimizer = torch.optim.SGD(model.parameters(), lr=learning_rate)\n",
    "# train the model\n",
    "# model = train_logistic(model, Loss, optimizer, epochs, train_loader)\n",
    "\n",
    "#load model\n",
    "model = LogisticRegressionModel()\n",
    "model.load_state_dict(torch.load('./model/logistic_model_state_dict.pth'))\n",
    "evalModel(model, Loss, test_loader, order = 0)"
   ]
  },
  {
   "attachments": {},
   "cell_type": "markdown",
   "metadata": {},
   "source": [
    "## CIFAR-10 Classification Using Random Forest\n",
    "\n",
    "Random Forest is an ensemble learning method that operates by constructing multiple decision trees during training time and outputting the class that is the mode of the classes (classification) of the individual trees.\n",
    "\n",
    "### Overview of Random Forest\n",
    "\n",
    "- **Ensemble Method**: Combines predictions from multiple machine learning algorithms to make more accurate predictions than any individual model.\n",
    "- **Decision Trees**: Random Forest builds multiple decision trees and merges them together to get a more accurate and stable prediction.\n",
    "- **Robust to Overfitting**: Due to the averaging of results, Random Forest can be less prone to overfitting than a single decision tree.\n",
    "\n",
    "### CIFAR-10 Dataset\n",
    "\n",
    "- **Size**: 32x32 pixel images\n",
    "- **Channels**: 3 (RGB)\n",
    "- **Classes**: 10 distinct categories, ranging from animals to vehicles.\n",
    "\n",
    "### Implementation Steps\n",
    "\n",
    "1. **Preprocessing**:\n",
    "   - Convert images to grayscale to reduce complexity (optional).\n",
    "   - Flatten the images from a 3D tensor of 32x32x3 to a 1D tensor.\n",
    "   - Normalize or scale the pixel values.\n",
    "\n",
    "2. **Random Forest Classifier**:\n",
    "   - Use an ensemble of decision trees to classify the images.\n",
    "   - Configure hyperparameters like the number of trees in the forest and the depth of each tree.\n",
    "\n",
    "3. **Training the Classifier**:\n",
    "   - Train the Random Forest on the flattened and preprocessed training data.\n",
    "   - Use cross-validation to avoid overfitting and tune hyperparameters.\n",
    "\n",
    "4. **Evaluation**:\n",
    "   - After training, test the classifier on unseen data and measure its performance.\n",
    "   - Metrics such as accuracy, precision, recall, and F1 score can be used for evaluation.\n",
    "\n",
    "### Challenges\n",
    "\n",
    "- **High Dimensionality**: The flattened images result in a high-dimensional feature space, which can be computationally intensive for a Random Forest.\n",
    "- **Data Reduction**: Some information loss might occur due to image flattening or grayscaling."
   ]
  },
  {
   "cell_type": "code",
   "execution_count": 9,
   "metadata": {},
   "outputs": [],
   "source": [
    "from sklearn.ensemble import RandomForestClassifier\n",
    "from sklearn.metrics import accuracy_score\n",
    "from torchvision.datasets import CIFAR10\n",
    "import numpy as np\n",
    "from torchvision.transforms import ToTensor\n",
    "\n",
    "# load CIFAR-10 dataset\n",
    "train_data = CIFAR10(root=\"./data\", train=True, download=False, transform=ToTensor())\n",
    "test_data = CIFAR10(root=\"./data\", train=False, download=False, transform=ToTensor())\n",
    "\n",
    "# Transform the data to numpy array\n",
    "X_train = train_data.data.reshape((len(train_data), 3072))  # flatten the image\n",
    "y_train = np.array(train_data.targets)\n",
    "X_test = test_data.data.reshape((len(test_data), 3072))\n",
    "y_test = np.array(test_data.targets)\n",
    "\n",
    "# create a random forest classifier\n",
    "rf = RandomForestClassifier(n_estimators=100, n_jobs=-1)"
   ]
  },
  {
   "cell_type": "code",
   "execution_count": 10,
   "metadata": {},
   "outputs": [],
   "source": [
    "# # train the model\n",
    "# rf.fit(X_train, y_train)"
   ]
  },
  {
   "attachments": {},
   "cell_type": "markdown",
   "metadata": {},
   "source": [
    "Training using the whole training set.\n",
    "The accuracy turns out to be 46.65%."
   ]
  },
  {
   "cell_type": "code",
   "execution_count": 11,
   "metadata": {},
   "outputs": [
    {
     "name": "stdout",
     "output_type": "stream",
     "text": [
      "Model accuracy: 46.65%\n"
     ]
    }
   ],
   "source": [
    "from joblib import dump\n",
    "from joblib import load\n",
    "# dump(rf, './model/random_forest_cifar10.joblib')\n",
    "rf = load('./model/random_forest_cifar10.joblib')\n",
    "# Make predictions\n",
    "y_pred = rf.predict(X_test)\n",
    "\n",
    "# evaluate the model\n",
    "accuracy = accuracy_score(y_test, y_pred)\n",
    "print(f\"Model accuracy: {accuracy * 100:.2f}%\")"
   ]
  },
  {
   "attachments": {},
   "cell_type": "markdown",
   "metadata": {},
   "source": [
    "## CIFAR-10 Classification Using Convolutional Neural Networks (CNNs)\n",
    "\n",
    "Convolutional Neural Networks (CNNs) are highly effective for image classification tasks, including the CIFAR-10 dataset, which consists of 60,000 32x32 color images in 10 classes, with 6,000 images per class.\n",
    "\n",
    "### CNN Architecture for CIFAR-10\n",
    "\n",
    "A CNN for CIFAR-10 typically comprises several layers, including:\n",
    "\n",
    "- **Convolutional Layers**: To extract spatial hierarchy of features from the images.\n",
    "- **Activation Functions**: Such as ReLU, to introduce non-linearity into the model.\n",
    "- **Pooling Layers**: To reduce the spatial size of the representation, reducing the number of parameters and computation in the network.\n",
    "- **Fully Connected Layers**: A final set of layers where each neuron is connected to every neuron in the previous layer to classify the features extracted by the convolutional layers.\n",
    "- **Output Layer**: With a softmax activation function to obtain the probability distribution over the 10 classes.\n",
    "\n",
    "### Training a CNN on CIFAR-10\n",
    "\n",
    "The training process includes the following steps:\n",
    "\n",
    "1. **Preprocessing**:\n",
    "   - Normalize the image pixel values.\n",
    "   - Optionally augment the data to prevent overfitting and improve generalization.\n",
    "\n",
    "2. **Model Compilation**:\n",
    "   - Choose a loss function, like categorical cross-entropy for multi-class classification.\n",
    "   - Select an optimizer, such as Adam or SGD with momentum.\n",
    "\n",
    "3. **Model Training**:\n",
    "   - Use backpropagation and the chosen optimization algorithm to train the model.\n",
    "   - Validate the model after each epoch to monitor performance and prevent overfitting.\n",
    "\n",
    "4. **Performance Evaluation**:\n",
    "   - After training, evaluate the model on the test set.\n",
    "   - Measure accuracy, precision, recall, F1 score, and other relevant metrics."
   ]
  },
  {
   "attachments": {},
   "cell_type": "markdown",
   "metadata": {},
   "source": [
    "Define CNN framework, train and eval function."
   ]
  },
  {
   "cell_type": "code",
   "execution_count": 12,
   "metadata": {},
   "outputs": [],
   "source": [
    "# define the CNN model\n",
    "class CNN_Net(nn.Module):\n",
    "    def __init__(self):\n",
    "        super(CNN_Net, self).__init__()\n",
    "        # convolutional layer\n",
    "        self.conv1 = nn.Conv2d(3, 32, 3, padding=1)\n",
    "        self.conv2 = nn.Conv2d(32, 64, 3, padding=1)\n",
    "        self.conv3 = nn.Conv2d(64, 64, 3, padding=1)\n",
    "        # fully connected layers\n",
    "        self.fc1 = nn.Linear(64 * 4 * 4, 128)\n",
    "        self.fc2 = nn.Linear(128, 10)\n",
    "\n",
    "    def forward(self, x):\n",
    "        # convolutional layers with max pooling\n",
    "        x = F.max_pool2d(F.relu(self.conv1(x)), (2, 2))\n",
    "        x = F.max_pool2d(F.relu(self.conv2(x)), (2, 2))\n",
    "        x = F.max_pool2d(F.relu(self.conv3(x)), (2, 2))\n",
    "        # flatten the image\n",
    "        x = x.view(-1, 64 * 4 * 4)\n",
    "        # fully connected layers\n",
    "        x = F.relu(self.fc1(x))\n",
    "        x = self.fc2(x)\n",
    "        return x"
   ]
  },
  {
   "cell_type": "code",
   "execution_count": 13,
   "metadata": {},
   "outputs": [],
   "source": [
    "def train_cnn(net, Loss, optimizer, epochs, train_loader, device, order=0):\n",
    "    for epoch in tqdm(range(epochs)):  # epochs\n",
    "        running_loss = 0.0\n",
    "        for i, data in enumerate(train_loader, 0):\n",
    "            # Send inputs and labels to the device\n",
    "            inputs, labels = data[0].to(device), data[1].to(device)\n",
    "            optimizer.zero_grad()\n",
    "\n",
    "            outputs = net(inputs)\n",
    "            loss = Loss(outputs, labels)\n",
    "            loss.backward()\n",
    "            optimizer.step()\n",
    "            \n",
    "            if order == 0:\n",
    "                running_loss += loss.item()\n",
    "                if i % 200 == 199:\n",
    "                    print('[%d, %5d] loss: %.3f' %\n",
    "                        (epoch + 1, i + 1, running_loss / 200))\n",
    "                    running_loss = 0.0\n",
    "    if order == 0:\n",
    "        torch.save(net.state_dict(), './model/cnn_model_state_dict.pth')\n",
    "    else:\n",
    "        torch.save(net.state_dict(), f'./model/cnn_model_state_dict_fold_{order}.pth')\n",
    "    # Move the model back to CPU\n",
    "    net.to('cpu')\n",
    "    return net\n",
    "\n",
    "# evaluate the model\n",
    "def evalCNNModel(model, test_loader, order=0):\n",
    "    model.eval()  # set the model to evaluation mode\n",
    "    correct = 0\n",
    "    total = 0\n",
    "    with torch.no_grad():\n",
    "        for data in test_loader:\n",
    "            images, labels = data\n",
    "            outputs = model(images)\n",
    "            _, predicted = torch.max(outputs.data, 1)\n",
    "            total += labels.size(0)\n",
    "            correct += (predicted == labels).sum().item()\n",
    "    if order == 0:\n",
    "        print('Accuracy of the network on the 10000 test images: %d %%' % (\n",
    "            100 * correct / total))\n",
    "    else:\n",
    "        print(f'Accuracy of the network on the {order}-fold\\'s {total} validation images: %d %%' % (\n",
    "            100 * correct / total))"
   ]
  },
  {
   "attachments": {},
   "cell_type": "markdown",
   "metadata": {},
   "source": [
    "### Training CNNs with K-Fold Cross-Validation\n",
    "\n",
    "K-fold cross-validation is a technique used to evaluate predictive models by partitioning the original sample into a set of k equally sized folds, training the model on k-1 folds, and validating it on the remaining part of the data.\n",
    "\n",
    "#### Applying K-Fold Cross-Validation to CNNs\n",
    "\n",
    "##### Step 1: Data Preparation\n",
    "\n",
    "- Start by preprocessing images as required by the CNN, including normalization and resizing.\n",
    "- Optionally, augment your training data to introduce variability, which can help improve model robustness.\n",
    "\n",
    "##### Step 2: Define the CNN Architecture\n",
    "\n",
    "- Define CNN architecture with convolutional layers, activation functions, pooling layers, and fully connected layers.\n",
    "- Ensure the output layer has the appropriate activation function, like softmax for multi-class classification tasks.\n",
    "\n",
    "##### Step 3: K-Fold Cross-Validation Loop\n",
    "\n",
    "- Split the dataset into `k` folds using stratified sampling to maintain the distribution of classes within each fold.\n",
    "- Initialize the model inside the loop so that each fold gets a fresh model without any learned weights from the previous folds.\n",
    "\n",
    "##### Step 4: Training and Validation\n",
    "\n",
    "- For each iteration, train the CNN on the `k-1` training folds.\n",
    "- Validate the CNN on the remaining fold and record the performance metrics.\n",
    "- After the completion of `k` iterations, average out the performance metrics to get a final model performance score.\n",
    "\n",
    "##### Step 5: Hyperparameter Tuning and Model Selection\n",
    "\n",
    "- Use the validation scores from k-fold cross-validation to tune the model's hyperparameters.\n",
    "- Select the model that performs best on average across all k folds."
   ]
  },
  {
   "cell_type": "code",
   "execution_count": 14,
   "metadata": {},
   "outputs": [
    {
     "name": "stdout",
     "output_type": "stream",
     "text": [
      "Training on cuda:0\n"
     ]
    }
   ],
   "source": [
    "# Check for GPU availability\n",
    "device = torch.device(\"cuda:0\" if torch.cuda.is_available() else \"cpu\")\n",
    "print(f'Training on {device}')"
   ]
  },
  {
   "cell_type": "code",
   "execution_count": 21,
   "metadata": {},
   "outputs": [
    {
     "name": "stdout",
     "output_type": "stream",
     "text": [
      "Training on cuda:0\n",
      "Fold 1:\n"
     ]
    },
    {
     "name": "stderr",
     "output_type": "stream",
     "text": [
      "100%|██████████| 50/50 [09:25<00:00, 11.31s/it]\n"
     ]
    },
    {
     "name": "stdout",
     "output_type": "stream",
     "text": [
      "\n",
      "Fold 1: Average loss: 0.0179, Accuracy: 7080/10000 (71%)\n",
      "\n",
      "Fold 2:\n"
     ]
    },
    {
     "name": "stderr",
     "output_type": "stream",
     "text": [
      "100%|██████████| 50/50 [09:04<00:00, 10.90s/it]\n"
     ]
    },
    {
     "name": "stdout",
     "output_type": "stream",
     "text": [
      "\n",
      "Fold 2: Average loss: 0.0195, Accuracy: 6920/10000 (69%)\n",
      "\n",
      "Fold 3:\n"
     ]
    },
    {
     "name": "stderr",
     "output_type": "stream",
     "text": [
      "100%|██████████| 50/50 [09:04<00:00, 10.89s/it]\n"
     ]
    },
    {
     "name": "stdout",
     "output_type": "stream",
     "text": [
      "\n",
      "Fold 3: Average loss: 0.0179, Accuracy: 6918/10000 (69%)\n",
      "\n",
      "Fold 4:\n"
     ]
    },
    {
     "name": "stderr",
     "output_type": "stream",
     "text": [
      "100%|██████████| 50/50 [09:07<00:00, 10.95s/it]\n"
     ]
    },
    {
     "name": "stdout",
     "output_type": "stream",
     "text": [
      "\n",
      "Fold 4: Average loss: 0.0181, Accuracy: 7041/10000 (70%)\n",
      "\n",
      "Fold 5:\n"
     ]
    },
    {
     "name": "stderr",
     "output_type": "stream",
     "text": [
      "100%|██████████| 50/50 [09:07<00:00, 10.96s/it]\n"
     ]
    },
    {
     "name": "stdout",
     "output_type": "stream",
     "text": [
      "\n",
      "Fold 5: Average loss: 0.0183, Accuracy: 7120/10000 (71%)\n",
      "\n"
     ]
    }
   ],
   "source": [
    "batch_size = 128\n",
    "learning_rate = 0.01\n",
    "epochs = 50\n",
    "k = 5  # Number of folds\n",
    "# define the transform so that data is in [0, 1]\n",
    "transform = transforms.Compose([transforms.ToTensor()])\n",
    "for fold in range(k):\n",
    "    print(f'Fold {fold + 1}:')\n",
    "    trainloader, validloader = get_k_fold_data_loaders(batch_size=batch_size, k=k, current_fold=fold, transform=transform)\n",
    "    # train the model on the trainloader and validate on the validloader\n",
    "    \n",
    "    # define model and hyperparameters\n",
    "    # loss function, optimizer and net\n",
    "    Loss = nn.CrossEntropyLoss()\n",
    "    net = CNN_Net()\n",
    "    # optimizer = optim.Adam(net.parameters(), lr=learning_rate)\n",
    "    # # Move the model to the specified device\n",
    "    # net.to(device)\n",
    "\n",
    "    # # train the model\n",
    "    # model = train_cnn(net, Loss, optimizer, epochs, trainloader, device, fold + 1)\n",
    "\n",
    "    model = CNN_Net()\n",
    "    model.load_state_dict(torch.load(f'./model/cnn_model_state_dict_fold_{fold + 1}.pth'))\n",
    "    evalModel(model, Loss, validloader, fold + 1)"
   ]
  },
  {
   "attachments": {},
   "cell_type": "markdown",
   "metadata": {},
   "source": [
    "Training using the whole training set.\n",
    "The accuracy turns out to be 72%."
   ]
  },
  {
   "cell_type": "code",
   "execution_count": 15,
   "metadata": {},
   "outputs": [
    {
     "name": "stdout",
     "output_type": "stream",
     "text": [
      "Files already downloaded and verified\n",
      "Files already downloaded and verified\n",
      "\n",
      "Test set: Average loss: 0.0004, Accuracy: 7233/10000 (72%)\n",
      "\n"
     ]
    }
   ],
   "source": [
    "# Hyperparameters\n",
    "batch_size = 128\n",
    "learning_rate = 0.001\n",
    "epochs = 50\n",
    "train_loader, test_loader, classes = GetLoader(batch_size)\n",
    "\n",
    "# define model\n",
    "model = CNN_Net()\n",
    "# Move the model to the specified device\n",
    "model.to(device)\n",
    "\n",
    "# loss function, optimizer\n",
    "Loss = nn.CrossEntropyLoss()\n",
    "optimizer = optim.Adam(model.parameters(), lr=learning_rate)\n",
    "\n",
    "# # train the model\n",
    "# model = train_cnn(model, Loss, optimizer, epochs, train_loader, device)\n",
    "\n",
    "#load model\n",
    "model = CNN_Net()\n",
    "model.load_state_dict(torch.load('./model/cnn_model_state_dict.pth'))\n",
    "evalModel(model, Loss, test_loader, order = 0)"
   ]
  },
  {
   "attachments": {},
   "cell_type": "markdown",
   "metadata": {},
   "source": [
    "## CIFAR-10 Classification Results Comparison\n",
    "\n",
    "We have performed the CIFAR-10 image classification task using three different machine learning models: Logistic Regression, Random Forest, and a Convolutional Neural Network (CNN). The results are summarized below in terms of accuracy.\n",
    "\n",
    "### Models and Accuracy\n",
    "\n",
    "#### Logistic Regression\n",
    "\n",
    "- **Description**: A simple linear model used for binary classification tasks, extended for the multi-class setting.\n",
    "- **CIFAR-10 Accuracy**: 37%\n",
    "\n",
    "#### Random Forest\n",
    "\n",
    "- **Description**: An ensemble learning method that operates by constructing a multitude of decision trees at training time and outputting the class that is the mode of the classes of the individual trees.\n",
    "- **CIFAR-10 Accuracy**: 46.65%\n",
    "\n",
    "#### Convolutional Neural Network (CNN)\n",
    "\n",
    "- **Description**: A deep learning algorithm which can take in an input image, assign importance (learnable weights and biases) to various aspects/objects in the image, and be able to differentiate one from the other.\n",
    "- **CIFAR-10 Accuracy**: 72%\n",
    "\n",
    "### Discussion\n",
    "\n",
    "The accuracy results indicate a clear trend in performance with respect to the complexity of the models. Logistic Regression, being a linear model, has the lowest accuracy since it struggles with the complex patterns and nuances in the CIFAR-10 dataset. Random Forest improves on Logistic Regression due to its ability to capture non-linear patterns by leveraging multiple decision trees. However, the CNN outperforms both Logistic Regression and Random Forest by a significant margin. The inherent design of CNNs to capture spatial hierarchies in image data makes it particularly well-suited for image classification tasks like CIFAR-10.\n",
    "\n",
    "### Conclusion\n",
    "\n",
    "The comparison shows that model choice plays a crucial role in the performance of image classification tasks. While Logistic Regression and Random Forest can serve as baseline models, CNNs are preferable for higher accuracy in complex image classification challenges like those presented by the CIFAR-10 dataset.\n"
   ]
  },
  {
   "attachments": {},
   "cell_type": "markdown",
   "metadata": {},
   "source": [
    "# Unsupervised Learning"
   ]
  },
  {
   "attachments": {},
   "cell_type": "markdown",
   "metadata": {},
   "source": [
    "## Encoding and Decoding CIFAR-10 Images Using Autoencoders\n",
    "\n",
    "Autoencoders are a type of neural network used to learn efficient representations (encodings) of unlabeled data, typically for the purpose of dimensionality reduction. An autoencoder learns to compress the data into an encoded representation and then reconstructs the data back from the reduced encoded form.\n",
    "\n",
    "### Overview of Autoencoders\n",
    "\n",
    "Autoencoders consist of two main parts:\n",
    "- **Encoder**: This part of the network compresses the input into a latent-space representation. It defines how the input data is reduced to an encoding.\n",
    "- **Decoder**: This part of the network reconstructs the input data from the latent space representation. It outlines how the data is reconstructed from the encoding.\n",
    "\n",
    "### Applying Autoencoders to CIFAR-10\n",
    "\n",
    "#### Step 1: Preprocessing the Data\n",
    "\n",
    "Before feeding the data into the autoencoder, it's crucial to preprocess it:\n",
    "- Normalize the pixel values to the range [0, 1].\n",
    "- Flatten the images if you're using a fully connected autoencoder, or keep the images in their 3D shape (channels, width, height) if you're using a convolutional autoencoder.\n",
    "\n",
    "#### Step 2: Defining the Autoencoder Architecture\n",
    "\n",
    "For CIFAR-10, a convolutional autoencoder is more suitable due to its ability to work with image data effectively:\n",
    "- The encoder might consist of a series of convolutional layers and pooling layers to reduce the spatial dimensions.\n",
    "- The decoder would consist of a series of upsampling and convolutional layers to reconstruct the original image dimensions."
   ]
  },
  {
   "cell_type": "code",
   "execution_count": 16,
   "metadata": {},
   "outputs": [],
   "source": [
    "class Autoencoder(nn.Module):\n",
    "    def __init__(self):\n",
    "        super(Autoencoder, self).__init__()\n",
    "        self.encoder = nn.Sequential(\n",
    "            nn.Linear(3 * 32 * 32, 1024),\n",
    "            nn.ReLU(),\n",
    "            nn.Linear(1024, 512),\n",
    "            nn.ReLU(),\n",
    "            nn.Linear(512, 256),\n",
    "            nn.ReLU(),\n",
    "            nn.Linear(256, 64)  # encoded feature is 64-dim\n",
    "        )\n",
    "        # decoder\n",
    "        self.decoder = nn.Sequential(\n",
    "            nn.Linear(64, 256),\n",
    "            nn.ReLU(),\n",
    "            nn.Linear(256, 512),\n",
    "            nn.ReLU(),\n",
    "            nn.Linear(512, 1024),\n",
    "            nn.ReLU(),\n",
    "            nn.Linear(1024, 3 * 32 * 32),\n",
    "            nn.Sigmoid()  # to get the output in [0, 1]\n",
    "        )\n",
    "\n",
    "    def forward(self, x):\n",
    "        x = self.encoder(x)\n",
    "        x = self.decoder(x)\n",
    "        return x"
   ]
  },
  {
   "cell_type": "code",
   "execution_count": 17,
   "metadata": {},
   "outputs": [
    {
     "name": "stdout",
     "output_type": "stream",
     "text": [
      "Files already downloaded and verified\n",
      "Files already downloaded and verified\n"
     ]
    }
   ],
   "source": [
    "# transform\n",
    "transform = transforms.Compose([\n",
    "    transforms.ToTensor(),\n",
    "    transforms.Lambda(lambda x: x.view(-1))  # 将图像展平\n",
    "])\n",
    "\n",
    "train_loader, _, _ = GetLoader(batch_size=64, transform=transform)\n",
    "\n",
    "# define model\n",
    "autoencoder = Autoencoder()\n",
    "\n",
    "# Loss function and optimizer\n",
    "criterion = nn.MSELoss()\n",
    "optimizer = optim.Adam(autoencoder.parameters(), lr=1e-3)"
   ]
  },
  {
   "attachments": {},
   "cell_type": "markdown",
   "metadata": {},
   "source": [
    "### Step 3: Training the Autoencoder\n",
    "\n",
    "- Compile the autoencoder using an optimizer like Adam and a loss function like mean squared error (MSE), which is common for reconstruction tasks.\n",
    "- Train the autoencoder using the CIFAR-10 images as both the inputs and the targets.\n",
    "\n",
    "The code below is the training process of AutoEncoder, since we saved a trained model, I exegesised this block."
   ]
  },
  {
   "cell_type": "code",
   "execution_count": 18,
   "metadata": {},
   "outputs": [],
   "source": [
    "# # train the model\n",
    "# num_epochs = 50\n",
    "\n",
    "# for epoch in range(num_epochs):\n",
    "#     for data in train_loader:\n",
    "#         imgs, _ = data\n",
    "#         imgs = imgs.reshape(imgs.size(0), -1)\n",
    "#         outputs = autoencoder(imgs)\n",
    "#         loss = criterion(outputs, imgs)\n",
    "        \n",
    "#         optimizer.zero_grad()\n",
    "#         loss.backward()\n",
    "#         optimizer.step()\n",
    "        \n",
    "#     print(f'Epoch {epoch+1}/{num_epochs}, Loss: {loss.item()}')"
   ]
  },
  {
   "cell_type": "code",
   "execution_count": 19,
   "metadata": {},
   "outputs": [
    {
     "data": {
      "text/plain": [
       "<All keys matched successfully>"
      ]
     },
     "execution_count": 19,
     "metadata": {},
     "output_type": "execute_result"
    }
   ],
   "source": [
    "# # save the model\n",
    "# torch.save(autoencoder.state_dict(), './model/autoencoder_model_state_dict.pth')\n",
    "\n",
    "# load the model\n",
    "autoencoder = Autoencoder()\n",
    "autoencoder.load_state_dict(torch.load('./model/autoencoder_model_state_dict.pth'))"
   ]
  },
  {
   "attachments": {},
   "cell_type": "markdown",
   "metadata": {},
   "source": [
    "#### Step 4: Encoding and Decoding Images\n",
    "\n",
    "- Once trained, use the encoder to compress CIFAR-10 images into a lower-dimensional representation.\n",
    "- Use the decoder to reconstruct the images from their encoded representations."
   ]
  },
  {
   "cell_type": "code",
   "execution_count": 20,
   "metadata": {},
   "outputs": [
    {
     "name": "stdout",
     "output_type": "stream",
     "text": [
      "Files already downloaded and verified\n",
      "Files already downloaded and verified\n"
     ]
    }
   ],
   "source": [
    "# get a image from test set\n",
    "train_loader, test_loader, _ = GetLoader(batch_size=5, transform=transform)\n",
    "def get_img(testloader):\n",
    "    for data in testloader:\n",
    "        imgs, _ = data\n",
    "        imgs = imgs.reshape(imgs.size(0), -1)\n",
    "        yield imgs\n",
    "\n",
    "# define a function that plot the reconstructed images and their ground truths (inputs)\n",
    "def Plot_img(autoencoder, imgs):\n",
    "    outputs = autoencoder(imgs)\n",
    "    plot_img = outputs[0].reshape(3, 32, 32).detach().numpy()\n",
    "    plt.imshow(np.transpose(plot_img, (1, 2, 0)))\n",
    "    plt.show()\n",
    "    plot_img = imgs[0].reshape(3, 32, 32).detach().numpy()\n",
    "    plt.imshow(np.transpose(plot_img, (1, 2, 0)))\n",
    "    plt.show()"
   ]
  },
  {
   "cell_type": "code",
   "execution_count": 21,
   "metadata": {},
   "outputs": [
    {
     "name": "stdout",
     "output_type": "stream",
     "text": [
      "Plot the reconstructed images and their ground truths (inputs) from the training set\n"
     ]
    },
    {
     "data": {
      "image/png": "[encoded data removed]",
      "text/plain": [
       "<Figure size 640x480 with 1 Axes>"
      ]
     },
     "metadata": {},
     "output_type": "display_data"
    },
    {
     "data": {
      "image/png": "[encoded data removed]",
      "text/plain": [
       "<Figure size 640x480 with 1 Axes>"
      ]
     },
     "metadata": {},
     "output_type": "display_data"
    },
    {
     "name": "stdout",
     "output_type": "stream",
     "text": [
      "Plot the reconstructed images and their ground truths (inputs) from the test set\n"
     ]
    },
    {
     "data": {
      "image/png": "[encoded data removed]",
      "text/plain": [
       "<Figure size 640x480 with 1 Axes>"
      ]
     },
     "metadata": {},
     "output_type": "display_data"
    },
    {
     "data": {
      "image/png": "[encoded data removed]",
      "text/plain": [
       "<Figure size 640x480 with 1 Axes>"
      ]
     },
     "metadata": {},
     "output_type": "display_data"
    }
   ],
   "source": [
    "# plot the reconstructed images and their ground truths (inputs) from the training set\n",
    "print('Plot the reconstructed images and their ground truths (inputs) from the training set')\n",
    "Plot_img(autoencoder, next(get_img(train_loader)))\n",
    "# plot the reconstructed images and their ground truths (inputs) from the test set\n",
    "print('Plot the reconstructed images and their ground truths (inputs) from the test set')\n",
    "Plot_img(autoencoder, next(get_img(test_loader)))"
   ]
  },
  {
   "attachments": {},
   "cell_type": "markdown",
   "metadata": {},
   "source": [
    "### Analysis of Autoencoder Compression on CIFAR-10 Images\n",
    "\n",
    "Autoencoders serve as a powerful tool for learning efficient representations of data. In the context of CIFAR-10, an autoencoder can compress a 3x32x32 image down to a latent space of 64 dimensions and then reconstruct it back to its original size.\n",
    "\n",
    "#### Compression and Reconstruction\n",
    "\n",
    "- **Compression**: The encoder part of the network reduces the dimensionality of the image from 3072 pixels to a 64-dimensional encoding. This process captures the most significant features of the data while losing some details.\n",
    "- **Reconstruction**: The decoder part attempts to reconstruct the image from the 64-dimensional encoding. The reconstructed image often appears blurrier than the original due to the loss of detail during compression.\n",
    "\n",
    "#### Color Distribution\n",
    "\n",
    "- Despite the loss of fine details and the resulting blur in the reconstructed images, the color distribution remains relatively consistent with the original images. This indicates that the encoder is effectively capturing the overall color scheme of the image in the compressed representation.\n",
    "\n",
    "#### Improving the Autoencoder\n",
    "\n",
    "- **Decoder Capacity**: By increasing the capacity of the decoder—adding more layers or neurons—the network can learn a more complex function to better reconstruct the details and sharpness of the original image.\n",
    "- **Encoder-Decoder Symmetry**: It is generally beneficial to have a symmetric structure, where the capacity of the decoder matches the encoder, to maintain the balance in the network's ability to compress and reconstruct.\n",
    "\n",
    "#### Autoencoders as a Compression Mechanism\n",
    "\n",
    "- The ability of autoencoders to capture the essential characteristics of images in a smaller number of dimensions makes them a viable approach for image compression.\n",
    "- The key advantage of using autoencoders over traditional compression algorithms is that they can be trained specifically for a certain type of image, potentially leading to better quality for that domain.\n",
    "\n",
    "#### Conclusion\n",
    "\n",
    "While the current autoencoder model compressing CIFAR-10 images to a 64-dimensional space produces somewhat blurry reconstructions, it preserves the overall color distribution effectively. Enhancing the decoder's architecture could yield sharper images and demonstrates the potential of autoencoders as an effective means for image compression. Further research and experimentation can explore the optimal balance between compression and reconstruction quality.\n",
    "\n"
   ]
  },
  {
   "attachments": {},
   "cell_type": "markdown",
   "metadata": {},
   "source": [
    "## Clustering CIFAR-10 with KMeans\n",
    "\n",
    "Clustering is an unsupervised learning technique used to group data points into clusters based on feature similarity. KMeans is one of the most popular clustering algorithms, and we have applied it to the CIFAR-10 dataset, which consists of 60,000 32x32 color images in 10 classes, with 6,000 images per class.\n",
    "\n",
    "### Overview of KMeans\n",
    "\n",
    "KMeans clustering aims to partition `n` observations into `k` clusters in which each observation belongs to the cluster with the nearest mean, serving as a prototype of the cluster.\n",
    "\n",
    "### Applying KMeans to CIFAR-10\n",
    "\n",
    "#### Preprocessing\n",
    "\n",
    "Before applying KMeans, the CIFAR-10 images need to be preprocessed:\n",
    "- **Normalization**: Scale pixel values to a range of [0, 1] for uniformity.\n",
    "- **Flattening**: Transform the 2D image arrays into 1D feature vectors to fit the KMeans algorithm's expectations.\n",
    "\n",
    "#### Initializing KMeans\n",
    "\n",
    "We initialize KMeans with a specified number of clusters (`k`). For CIFAR-10, we may start with `k=10` to match the number of classes.\n",
    "\n",
    "#### Clustering Process\n",
    "\n",
    "The KMeans algorithm iteratively performs the following steps:\n",
    "- **Assignment step**: Assign each image to the nearest cluster centroid.\n",
    "- **Update step**: Calculate new cluster centroids based on the assignments.\n",
    "\n",
    "#### Evaluating Clusters\n",
    "\n",
    "With clustering, we can use several metrics to evaluate the quality of our clusters:\n",
    "- **Inertia**: The sum of squared distances of samples to their closest cluster center.\n",
    "- **Silhouette Score**: A measure of how similar an object is to its own cluster compared to other clusters.\n",
    "\n",
    "#### Post-processing\n",
    "\n",
    "After clustering, we might analyze the centroids to understand the common features within each cluster.\n",
    "\n",
    "### Clustering Results and Purity\n",
    "\n",
    "We evaluate the purity of each cluster, which measures the proportion of the dominant class in each cluster:\n",
    "- Cluster purity varies, indicating the mixed quality of clusters.\n",
    "\n",
    "### Conclusion\n",
    "\n",
    "Applying KMeans to CIFAR-10 offers insights into the dataset's structure. However, due to the algorithm's simplicity and the complexity of the images, further techniques such as dimensionality reduction or feature extraction are recommended to improve clustering performance.\n"
   ]
  },
  {
   "cell_type": "code",
   "execution_count": 55,
   "metadata": {},
   "outputs": [
    {
     "name": "stdout",
     "output_type": "stream",
     "text": [
      "Files already downloaded and verified\n",
      "Files already downloaded and verified\n"
     ]
    },
    {
     "name": "stderr",
     "output_type": "stream",
     "text": [
      "c:\\ProgramData\\anaconda3\\envs\\intel_comp\\lib\\site-packages\\sklearn\\cluster\\_kmeans.py:1412: FutureWarning: The default value of `n_init` will change from 10 to 'auto' in 1.4. Set the value of `n_init` explicitly to suppress the warning\n",
      "  super()._check_params_vs_input(X, default_n_init=10)\n"
     ]
    }
   ],
   "source": [
    "from sklearn.cluster import KMeans\n",
    "\n",
    "# transform\n",
    "transform = transforms.Compose([\n",
    "    transforms.ToTensor(),\n",
    "    transforms.Lambda(lambda x: x.view(-1))  # 将图像展平\n",
    "])\n",
    "\n",
    "_, test_loader, _ = GetLoader(batch_size=64, transform=transform)\n",
    "\n",
    "# load the autoencoder we trained on CIFAR-10\n",
    "autoencoder = Autoencoder()\n",
    "autoencoder.load_state_dict(torch.load('./model/autoencoder_model_state_dict.pth'))\n",
    "\n",
    "# Compress the test images\n",
    "compressed_images = []\n",
    "labels = []\n",
    "for data in test_loader:\n",
    "    images, label = data\n",
    "    images = images.reshape(images.size(0), -1)\n",
    "    # compressed = autoencoder.encoder(images).detach().numpy()  # Use .detach() to avoid tracking history in autograd\n",
    "    # compressed_images.append(compressed)\n",
    "    compressed_images.append(images)\n",
    "    labels.append(label)\n",
    "\n",
    "compressed_images = np.vstack(compressed_images)  # Combine batches\n",
    "labels = np.hstack(labels)\n",
    "\n",
    "\n",
    "kmeans = KMeans(n_clusters=10)\n",
    "clusters = kmeans.fit_predict(compressed_images)"
   ]
  },
  {
   "attachments": {},
   "cell_type": "markdown",
   "metadata": {},
   "source": [
    "### Purity Metric for Clustering Evaluation\n",
    "Although KNN is usually unsupervised learning, we can still measure the clustering result using the labels here.\n",
    "\n",
    "Purity is an external evaluation metric for the quality of a clustering algorithm. It is a simple and transparent measure that assesses the extent to which clusters contain a single class of data.\n",
    "\n",
    "#### How Purity is Calculated\n",
    "\n",
    "The calculation of purity follows these steps:\n",
    "\n",
    "1. **Assigning the Most Frequent Class**: Within each cluster, identify the most frequent class of data points.\n",
    "2. **Cluster Purity**: The purity of the cluster is the proportion of the majority class in the cluster to the total number of data points in that cluster.\n",
    "3. **Summation**: Sum the counts of the majority class for all clusters.\n",
    "4. **Normalization**: Divide the summation by the total number of data points in the dataset to normalize the purity value.\n",
    "\n",
    "The formula for purity is expressed as:\n",
    "\n",
    "$ \\text{Purity} = \\frac{1}{N} \\sum_{k} \\max_j |c_k \\cap t_j| $\n",
    "\n",
    "Where:\n",
    "- $ N $ is the total number of data points in the dataset.\n",
    "- $ c_k $ represents the data points in cluster $ k $.\n",
    "- $ t_j $ is the set of data points that belong to the true class $ j $\n",
    "- $ |c_k \\cap t_j| $ is the number of data points that cluster $ c_k $ has in common with class $ t_j $.\n",
    "- $ \\max_j $ indicates selecting the true class $ t_j $ for which the intersection $ |c_k \\cap t_j| $ is maximized.\n",
    "\n",
    "#### Example\n",
    "\n",
    "Consider a clustering result with three clusters:\n",
    "\n",
    "- **Cluster 1**: Contains data points with true labels {A, A, B, B, B}. The purity of this cluster is 3/5 since the most frequent class 'B' appears 3 times.\n",
    "- **Cluster 2**: Contains data points with true labels {A, A, A, B, B}. The purity of this cluster is also 3/5 since the most frequent class 'A' appears 3 times.\n",
    "- **Cluster 3**: Contains data points with true labels {C, C, C, C, C}. The purity of this cluster is 5/5 as all data points belong to class 'C'.\n",
    "\n",
    "The overall purity of the clustering is (3/5 + 3/5 + 5/5) / 3 = 11/15.\n",
    "\n",
    "#### Limitations\n",
    "\n",
    "Purity does not account for the distribution of data points from the same true class across different clusters. As such, high purity is achievable even if the true classes are scattered across multiple clusters. Therefore, purity is often used in conjunction with other metrics such as Rand Index or Adjusted Rand Index for a more comprehensive evaluation of clustering quality.\n",
    "\n",
    "In the code block below we are going to calculate the purity for each cluster."
   ]
  },
  {
   "cell_type": "code",
   "execution_count": 56,
   "metadata": {},
   "outputs": [
    {
     "data": {
      "text/plain": [
       "array([0.26430298, 0.164859  , 0.16701317, 0.34150327, 0.28010139,\n",
       "       0.18464961, 0.22952477, 0.34578313, 0.18634146, 0.16223067])"
      ]
     },
     "execution_count": 56,
     "metadata": {},
     "output_type": "execute_result"
    }
   ],
   "source": [
    "from sklearn.metrics import confusion_matrix\n",
    "\n",
    "clusters = clusters.reshape(-1, 1)\n",
    "labels = labels.reshape(-1, 1)\n",
    "# Assuming clusters and labels are numpy arrays of shape (n_samples, 1)\n",
    "# where clusters contain the cluster assignments and labels contain the true labels.\n",
    "\n",
    "# Calculate the confusion matrix\n",
    "conf_matrix = confusion_matrix(labels, clusters)\n",
    "\n",
    "# Calculate purity for each cluster\n",
    "purity_per_cluster = np.amax(conf_matrix, axis=0) / np.sum(conf_matrix, axis=0)\n",
    "purity_per_cluster"
   ]
  },
  {
   "attachments": {},
   "cell_type": "markdown",
   "metadata": {},
   "source": [
    "## Image Compression and Clustering with Autoencoder and KMeans\n",
    "\n",
    "This document outlines the procedure for compressing images using a trained autoencoder and then applying KMeans clustering to the compressed representations with the number of clusters set to 10.\n",
    "\n",
    "### Image Compression with Autoencoder\n",
    "\n",
    "An autoencoder is a neural network trained to learn an efficient encoding for a set of data, typically for the purpose of dimensionality reduction. In this case, we use it to compress CIFAR-10 images.\n",
    "\n",
    "#### Steps for Compression:\n",
    "\n",
    "1. **Load the Autoencoder**: We start by loading the pre-trained autoencoder model.\n",
    "2. **Encode Images**: The test set images are passed through the encoder part of the autoencoder to obtain their compressed representations.\n",
    "\n",
    "### Clustering with KMeans\n",
    "\n",
    "After compressing the images, we employ KMeans to cluster the encoded representations.\n",
    "\n",
    "#### Steps for Clustering:\n",
    "\n",
    "1. **Initialize KMeans**: We initialize a KMeans clustering algorithm with the desired number of clusters, which is 10 for this task.\n",
    "2. **Fit to Compressed Data**: KMeans is fitted to the compressed data from the autoencoder, which groups the data into 10 clusters based on their similarities.\n",
    "3. **Cluster Assignments**: Each image's compressed representation is assigned to one of the 10 clusters."
   ]
  },
  {
   "cell_type": "code",
   "execution_count": 57,
   "metadata": {},
   "outputs": [
    {
     "name": "stdout",
     "output_type": "stream",
     "text": [
      "Files already downloaded and verified\n",
      "Files already downloaded and verified\n"
     ]
    },
    {
     "name": "stderr",
     "output_type": "stream",
     "text": [
      "c:\\ProgramData\\anaconda3\\envs\\intel_comp\\lib\\site-packages\\sklearn\\cluster\\_kmeans.py:1412: FutureWarning: The default value of `n_init` will change from 10 to 'auto' in 1.4. Set the value of `n_init` explicitly to suppress the warning\n",
      "  super()._check_params_vs_input(X, default_n_init=10)\n"
     ]
    }
   ],
   "source": [
    "# transform\n",
    "transform = transforms.Compose([\n",
    "    transforms.ToTensor(),\n",
    "    transforms.Lambda(lambda x: x.view(-1))  # 将图像展平\n",
    "])\n",
    "\n",
    "_, test_loader, _ = GetLoader(batch_size=64, transform=transform)\n",
    "\n",
    "# load the autoencoder we trained on CIFAR-10\n",
    "autoencoder = Autoencoder()\n",
    "autoencoder.load_state_dict(torch.load('./model/autoencoder_model_state_dict.pth'))\n",
    "\n",
    "# Compress the test images\n",
    "compressed_images = []\n",
    "labels = []\n",
    "for data in test_loader:\n",
    "    images, label = data\n",
    "    images = images.reshape(images.size(0), -1)\n",
    "    compressed = autoencoder.encoder(images).detach().numpy()  # Use .detach() to avoid tracking history in autograd\n",
    "    compressed_images.append(compressed)\n",
    "    # compressed_images.append(images)\n",
    "    labels.append(label)\n",
    "\n",
    "compressed_images = np.vstack(compressed_images)  # Combine batches\n",
    "labels = np.hstack(labels)\n",
    "\n",
    "\n",
    "kmeans = KMeans(n_clusters=10)\n",
    "clusters = kmeans.fit_predict(compressed_images)"
   ]
  },
  {
   "attachments": {},
   "cell_type": "markdown",
   "metadata": {},
   "source": [
    "### Purity Metric for Clustering Evaluation"
   ]
  },
  {
   "cell_type": "code",
   "execution_count": 58,
   "metadata": {},
   "outputs": [
    {
     "data": {
      "text/plain": [
       "array([0.26264274, 0.41618497, 0.19432177, 0.33375474, 0.33189655,\n",
       "       0.2257564 , 0.15446224, 0.25936884, 0.19056785, 0.26193001])"
      ]
     },
     "execution_count": 58,
     "metadata": {},
     "output_type": "execute_result"
    }
   ],
   "source": [
    "from sklearn.metrics import confusion_matrix\n",
    "\n",
    "clusters = clusters.reshape(-1, 1)\n",
    "labels = labels.reshape(-1, 1)\n",
    "# Assuming clusters and labels are numpy arrays of shape (n_samples, 1)\n",
    "# where clusters contain the cluster assignments and labels contain the true labels.\n",
    "\n",
    "# Calculate the confusion matrix\n",
    "conf_matrix = confusion_matrix(labels, clusters)\n",
    "\n",
    "# Calculate purity for each cluster\n",
    "purity_per_cluster = np.amax(conf_matrix, axis=0) / np.sum(conf_matrix, axis=0)\n",
    "purity_per_cluster"
   ]
  },
  {
   "attachments": {},
   "cell_type": "markdown",
   "metadata": {},
   "source": [
    "## Comparative Analysis of KMeans Clustering Purity on CIFAR-10\n",
    "\n",
    "We have evaluated the effectiveness of KMeans clustering on the CIFAR-10 dataset by comparing the purity scores obtained from clustering raw pixel data against the purity scores obtained from clustering data that was first encoded using an autoencoder.\n",
    "\n",
    "### Purity Scores from Clustering Raw Data\n",
    "\n",
    "The purity scores from applying KMeans directly to the raw CIFAR-10 data are as follows:\n",
    "\n",
    "- Cluster 1: 0.2643\n",
    "- Cluster 2: 0.1649\n",
    "- Cluster 3: 0.1670\n",
    "- Cluster 4: 0.3415\n",
    "- Cluster 5: 0.2801\n",
    "- Cluster 6: 0.1846\n",
    "- Cluster 7: 0.2295\n",
    "- Cluster 8: 0.3458\n",
    "- Cluster 9: 0.1863\n",
    "- Cluster 10: 0.1622\n",
    "\n",
    "### Purity Scores from Clustering Encoded Data\n",
    "\n",
    "After encoding the images using an autoencoder and then applying KMeans clustering, we observed the following purity scores:\n",
    "\n",
    "- Cluster 1: 0.2626\n",
    "- Cluster 2: 0.4162\n",
    "- Cluster 3: 0.1943\n",
    "- Cluster 4: 0.3338\n",
    "- Cluster 5: 0.3319\n",
    "- Cluster 6: 0.2258\n",
    "- Cluster 7: 0.1545\n",
    "- Cluster 8: 0.2594\n",
    "- Cluster 9: 0.1906\n",
    "- Cluster 10: 0.2619\n",
    "\n",
    "### Analysis of Results\n",
    "\n",
    "When comparing the two sets of purity scores, we observe the following:\n",
    "\n",
    "- **Improved Clusters**: Certain clusters show a improvement in purity after using the autoencoder, for average purity, it jumped from 0.23 to 0.26 in purity.\n",
    "- **Consistency**: The purity scores for clusters encoded by the autoencoder tend to be more consistent, avoiding the lower extremes seen in the raw data results.\n",
    "- **Feature Extraction**: The improved purity scores suggest that the autoencoder is effectively capturing salient features that aid the KMeans algorithm in forming more homogeneous clusters.\n",
    "- **Data Representation**: While not all clusters showed improvement, the general trend suggests that a learned representation can provide a more meaningful space for clustering than raw pixels.\n",
    "\n",
    "### Conclusion\n",
    "\n",
    "The analysis indicates that using an autoencoder to encode image data before applying KMeans clustering can improve the homogeneity of the resulting clusters. The increased purity in certain clusters suggests that the encoded data captures inherent patterns and features that are not as apparent in the raw pixel values. However, some clusters did not see improvement, which points to possible areas for further optimization in the autoencoder architecture or the clustering process itself. Overall, the use of autoencoders with KMeans shows promise for more effectively clustering complex image data.\n"
   ]
  }
 ],
 "metadata": {
  "kernelspec": {
   "display_name": "intel_comp",
   "language": "python",
   "name": "python3"
  },
  "language_info": {
   "codemirror_mode": {
    "name": "ipython",
    "version": 3
   },
   "file_extension": ".py",
   "mimetype": "text/x-python",
   "name": "python",
   "nbconvert_exporter": "python",
   "pygments_lexer": "ipython3",
   "version": "3.8.17"
  },
  "orig_nbformat": 4
 },
 "nbformat": 4,
 "nbformat_minor": 2
}
